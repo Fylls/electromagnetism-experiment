{
 "cells": [
  {
   "cell_type": "markdown",
   "id": "41f71a53-5e2a-46fd-8fbf-c42e2b70b54f",
   "metadata": {},
   "source": [
    "# Setup"
   ]
  },
  {
   "cell_type": "code",
   "execution_count": 7,
   "id": "b1c3876e-6fa9-43cb-8872-a7be3e6d9f05",
   "metadata": {},
   "outputs": [
    {
     "name": "stdout",
     "output_type": "stream",
     "text": [
      "Setup Complete\n"
     ]
    }
   ],
   "source": [
    "from scipy.constants import *\n",
    "from  operator import *\n",
    "from math import *\n",
    "import pandas as pd\n",
    "pd.plotting.register_matplotlib_converters()\n",
    "import matplotlib.pyplot as plt\n",
    "%matplotlib inline\n",
    "import seaborn as sns\n",
    "print(\"Setup Complete\")"
   ]
  },
  {
   "cell_type": "markdown",
   "id": "459b014c-359f-48be-b405-bd123067be0b",
   "metadata": {},
   "source": [
    "# Data"
   ]
  },
  {
   "cell_type": "code",
   "execution_count": 2,
   "id": "ac1ac4e1-6761-474a-9270-f4a5c503574b",
   "metadata": {},
   "outputs": [
    {
     "data": {
      "text/html": [
       "<div>\n",
       "<style scoped>\n",
       "    .dataframe tbody tr th:only-of-type {\n",
       "        vertical-align: middle;\n",
       "    }\n",
       "\n",
       "    .dataframe tbody tr th {\n",
       "        vertical-align: top;\n",
       "    }\n",
       "\n",
       "    .dataframe thead th {\n",
       "        text-align: right;\n",
       "    }\n",
       "</style>\n",
       "<table border=\"1\" class=\"dataframe\">\n",
       "  <thead>\n",
       "    <tr style=\"text-align: right;\">\n",
       "      <th></th>\n",
       "      <th>distance</th>\n",
       "      <th>voltage1</th>\n",
       "      <th>voltage2</th>\n",
       "      <th>voltage3</th>\n",
       "    </tr>\n",
       "  </thead>\n",
       "  <tbody>\n",
       "    <tr>\n",
       "      <th>0</th>\n",
       "      <td>0.001</td>\n",
       "      <td>10.0</td>\n",
       "      <td>15.0</td>\n",
       "      <td>20.0</td>\n",
       "    </tr>\n",
       "    <tr>\n",
       "      <th>1</th>\n",
       "      <td>0.002</td>\n",
       "      <td>15.0</td>\n",
       "      <td>20.0</td>\n",
       "      <td>30.0</td>\n",
       "    </tr>\n",
       "    <tr>\n",
       "      <th>2</th>\n",
       "      <td>0.003</td>\n",
       "      <td>20.0</td>\n",
       "      <td>25.0</td>\n",
       "      <td>40.0</td>\n",
       "    </tr>\n",
       "    <tr>\n",
       "      <th>3</th>\n",
       "      <td>0.004</td>\n",
       "      <td>22.0</td>\n",
       "      <td>28.0</td>\n",
       "      <td>45.0</td>\n",
       "    </tr>\n",
       "    <tr>\n",
       "      <th>4</th>\n",
       "      <td>0.005</td>\n",
       "      <td>24.0</td>\n",
       "      <td>30.0</td>\n",
       "      <td>47.5</td>\n",
       "    </tr>\n",
       "    <tr>\n",
       "      <th>5</th>\n",
       "      <td>0.006</td>\n",
       "      <td>25.0</td>\n",
       "      <td>31.0</td>\n",
       "      <td>50.0</td>\n",
       "    </tr>\n",
       "    <tr>\n",
       "      <th>6</th>\n",
       "      <td>0.007</td>\n",
       "      <td>26.0</td>\n",
       "      <td>32.5</td>\n",
       "      <td>52.5</td>\n",
       "    </tr>\n",
       "    <tr>\n",
       "      <th>7</th>\n",
       "      <td>0.008</td>\n",
       "      <td>27.0</td>\n",
       "      <td>34.0</td>\n",
       "      <td>54.5</td>\n",
       "    </tr>\n",
       "    <tr>\n",
       "      <th>8</th>\n",
       "      <td>0.009</td>\n",
       "      <td>27.5</td>\n",
       "      <td>35.0</td>\n",
       "      <td>56.0</td>\n",
       "    </tr>\n",
       "    <tr>\n",
       "      <th>9</th>\n",
       "      <td>0.010</td>\n",
       "      <td>28.0</td>\n",
       "      <td>36.0</td>\n",
       "      <td>57.5</td>\n",
       "    </tr>\n",
       "    <tr>\n",
       "      <th>10</th>\n",
       "      <td>0.015</td>\n",
       "      <td>30.0</td>\n",
       "      <td>37.5</td>\n",
       "      <td>59.0</td>\n",
       "    </tr>\n",
       "    <tr>\n",
       "      <th>11</th>\n",
       "      <td>0.020</td>\n",
       "      <td>31.0</td>\n",
       "      <td>39.0</td>\n",
       "      <td>60.0</td>\n",
       "    </tr>\n",
       "    <tr>\n",
       "      <th>12</th>\n",
       "      <td>0.030</td>\n",
       "      <td>32.0</td>\n",
       "      <td>39.5</td>\n",
       "      <td>60.0</td>\n",
       "    </tr>\n",
       "    <tr>\n",
       "      <th>13</th>\n",
       "      <td>0.040</td>\n",
       "      <td>32.5</td>\n",
       "      <td>40.0</td>\n",
       "      <td>61.0</td>\n",
       "    </tr>\n",
       "  </tbody>\n",
       "</table>\n",
       "</div>"
      ],
      "text/plain": [
       "    distance  voltage1  voltage2  voltage3\n",
       "0      0.001      10.0      15.0      20.0\n",
       "1      0.002      15.0      20.0      30.0\n",
       "2      0.003      20.0      25.0      40.0\n",
       "3      0.004      22.0      28.0      45.0\n",
       "4      0.005      24.0      30.0      47.5\n",
       "5      0.006      25.0      31.0      50.0\n",
       "6      0.007      26.0      32.5      52.5\n",
       "7      0.008      27.0      34.0      54.5\n",
       "8      0.009      27.5      35.0      56.0\n",
       "9      0.010      28.0      36.0      57.5\n",
       "10     0.015      30.0      37.5      59.0\n",
       "11     0.020      31.0      39.0      60.0\n",
       "12     0.030      32.0      39.5      60.0\n",
       "13     0.040      32.5      40.0      61.0"
      ]
     },
     "execution_count": 2,
     "metadata": {},
     "output_type": "execute_result"
    }
   ],
   "source": [
    "# Distances (measured in meters)\n",
    "d = [i / 1000 for i in [ 1, 2, 3, 4, 5, 6, 7, 8, 9, 10, 15, 20, 30, 40 ]]\n",
    "\n",
    "# 1st experiment - 10 volts\n",
    "v1 = [ 10, 15, 20, 22, 24, 25, 26, 27, 27.5, 28, 30, 31, 32, 32.5 ]\n",
    "\n",
    "# 2nd experiment - 15 volts\n",
    "v2 = [ 15, 20, 25, 28, 30, 31, 32.5, 34, 35, 36, 37.5, 39, 39.5, 40 ]\n",
    "\n",
    "# 3rd experiment - 20 volts\n",
    "v3 = [ 20, 30, 40, 45, 47.5, 50, 52.5, 54.5, 56, 57.5, 59, 60, 60, 61 ]\n",
    "\n",
    "df = pd.DataFrame({'distance': d, 'voltage1': v1, 'voltage2': v2, 'voltage3': v3})\n",
    "\n",
    "df"
   ]
  },
  {
   "cell_type": "markdown",
   "id": "cb127ee1-87c0-4e44-84cf-24e118f78b95",
   "metadata": {},
   "source": [
    "# Scatterplots"
   ]
  },
  {
   "cell_type": "code",
   "execution_count": 3,
   "id": "4f8c8447-44fb-49dc-b93c-cfc7638bc744",
   "metadata": {},
   "outputs": [
    {
     "data": {
      "text/plain": [
       "[Text(0.5, 0, 'Distance [m]'), Text(0, 0.5, 'Voltage [V]')]"
      ]
     },
     "execution_count": 3,
     "metadata": {},
     "output_type": "execute_result"
    },
    {
     "data": {
      "image/png": "[encoded data removed]",
      "text/plain": [
       "<Figure size 432x288 with 1 Axes>"
      ]
     },
     "metadata": {
      "needs_background": "light"
     },
     "output_type": "display_data"
    }
   ],
   "source": [
    "ax = sns.scatterplot(x='distance', y='voltage1', data=df)\n",
    "sns.scatterplot(x='distance', y='voltage2', data=df)\n",
    "sns.scatterplot(x='distance', y='voltage3', data=df)\n",
    "\n",
    "ax.set(xlabel='Distance [m]', ylabel='Voltage [V]')\n"
   ]
  },
  {
   "cell_type": "markdown",
   "id": "e7338c59-da5e-4d78-84b1-88128dcdf234",
   "metadata": {},
   "source": [
    "# Lineplots"
   ]
  },
  {
   "cell_type": "code",
   "execution_count": 4,
   "id": "a8d61a43-9d7f-411c-84f2-365bfb0c937b",
   "metadata": {},
   "outputs": [
    {
     "data": {
      "text/plain": [
       "[Text(0.5, 0, 'Distance [m]'), Text(0, 0.5, 'Voltage [V]')]"
      ]
     },
     "execution_count": 4,
     "metadata": {},
     "output_type": "execute_result"
    },
    {
     "data": {
      "image/png": "[encoded data removed]",
      "text/plain": [
       "<Figure size 432x288 with 1 Axes>"
      ]
     },
     "metadata": {
      "needs_background": "light"
     },
     "output_type": "display_data"
    }
   ],
   "source": [
    "ax = sns.lineplot(x='distance', y='voltage1', data=df)\n",
    "sns.lineplot(x='distance', y='voltage2', data=df)\n",
    "sns.lineplot(x='distance', y='voltage3', data=df)\n",
    "\n",
    "ax.set(xlabel='Distance [m]', ylabel='Voltage [V]')"
   ]
  },
  {
   "cell_type": "code",
   "execution_count": 5,
   "id": "ac0c5dc6-7987-4273-b3c5-b603ef4b2c88",
   "metadata": {},
   "outputs": [
    {
     "data": {
      "text/plain": [
       "<seaborn.axisgrid.FacetGrid at 0x1dd1af1be20>"
      ]
     },
     "execution_count": 5,
     "metadata": {},
     "output_type": "execute_result"
    },
    {
     "data": {
      "image/png": "[encoded data removed]",
      "text/plain": [
       "<Figure size 360x360 with 1 Axes>"
      ]
     },
     "metadata": {
      "needs_background": "light"
     },
     "output_type": "display_data"
    },
    {
     "data": {
      "image/png": "[encoded data removed]",
      "text/plain": [
       "<Figure size 360x360 with 1 Axes>"
      ]
     },
     "metadata": {
      "needs_background": "light"
     },
     "output_type": "display_data"
    },
    {
     "data": {
      "image/png": "[encoded data removed]",
      "text/plain": [
       "<Figure size 360x360 with 1 Axes>"
      ]
     },
     "metadata": {
      "needs_background": "light"
     },
     "output_type": "display_data"
    }
   ],
   "source": [
    "sns.lmplot(x=\"distance\", y=\"voltage1\", data=df)\n",
    "sns.lmplot(x=\"distance\", y=\"voltage2\", data=df)\n",
    "sns.lmplot(x=\"distance\", y=\"voltage3\", data=df)"
   ]
  },
  {
   "cell_type": "code",
   "execution_count": 32,
   "id": "e7bda6dd-fbe6-4c87-a1fe-ffb7a64dbe7e",
   "metadata": {},
   "outputs": [
    {
     "name": "stdout",
     "output_type": "stream",
     "text": [
      "    distance  voltage-inf  voltage-disk  voltage-experimental  \\\n",
      "0      0.001         10.0      9.950001                  10.0   \n",
      "1      0.002         20.0     19.800020                  15.0   \n",
      "2      0.003         30.0     29.550101                  20.0   \n",
      "3      0.004         40.0     39.200320                  22.0   \n",
      "4      0.005         50.0     48.750780                  24.0   \n",
      "5      0.006         60.0     58.201617                  25.0   \n",
      "6      0.007         70.0     67.552994                  26.0   \n",
      "7      0.008         80.0     76.805104                  27.0   \n",
      "8      0.009         90.0     85.958168                  27.5   \n",
      "9      0.010        100.0     95.012438                  28.0   \n",
      "10     0.015        150.0    138.812579                  30.0   \n",
      "11     0.020        200.0    180.196097                  31.0   \n",
      "12     0.030        300.0    255.969349                  32.0   \n",
      "13     0.040        400.0    322.967039                  32.5   \n",
      "\n",
      "    capacitance_inf  capacitance-disk  capacitance-total  \\\n",
      "0      2.781625e-10      2.795603e-10       2.781625e-10   \n",
      "1      1.390813e-10      1.404860e-10       1.854417e-10   \n",
      "2      9.272084e-11      9.413251e-11       1.390813e-10   \n",
      "3      6.954063e-11      7.095925e-11       1.264375e-10   \n",
      "4      5.563250e-11      5.705806e-11       1.159010e-10   \n",
      "5      4.636042e-11      4.779292e-11       1.112650e-10   \n",
      "6      3.973750e-11      4.117693e-11       1.069856e-10   \n",
      "7      3.477031e-11      3.621667e-11       1.030232e-10   \n",
      "8      3.090695e-11      3.236022e-11       1.011500e-10   \n",
      "9      2.781625e-11      2.927643e-11       9.934375e-11   \n",
      "10     1.854417e-11      2.003871e-11       9.272084e-11   \n",
      "11     1.390813e-11      1.543666e-11       8.972984e-11   \n",
      "12     9.272084e-12      1.086702e-11       8.692579e-11   \n",
      "13     6.954063e-12      8.612721e-12       8.558847e-11   \n",
      "\n",
      "    capacitance-parasitic  \n",
      "0           -1.397766e-12  \n",
      "1            4.495570e-11  \n",
      "2            4.494875e-11  \n",
      "3            5.547826e-11  \n",
      "4            5.884298e-11  \n",
      "5            6.347209e-11  \n",
      "6            6.580865e-11  \n",
      "7            6.680648e-11  \n",
      "8            6.878979e-11  \n",
      "9            7.006732e-11  \n",
      "10           7.268213e-11  \n",
      "11           7.429319e-11  \n",
      "12           7.605876e-11  \n",
      "13           7.697574e-11  \n"
     ]
    }
   ],
   "source": [
    "\n",
    "# Apparatus\n",
    "r = 0.1 \n",
    "area = pi * r**2 \n",
    "\n",
    "def analysis (d, v_exp):\n",
    "\n",
    "    # Charge homogeneously distributed on the capacitor's plates\n",
    "    # It remains constant thought all out measurements\n",
    "    # Measured in Coulomb (C)\n",
    "    q =  (epsilon_0 * area * v_exp[0]) / d[0]\n",
    "\n",
    "    # Voltage under the hypothesis of an infinite parallel plane capacitor\n",
    "    # Measured in Volt (V) \n",
    "    v_inf = [ ( q * i / (epsilon_0 * area) ) for i in d]\n",
    "\n",
    "    # Capacitance under the hypothesis of an infinite parallel plane capacitor\n",
    "    # This approximation works best for short distances\n",
    "    # Measured in Farad (F)\n",
    "    c_inf = [ ( q / i ) for i in v_inf]\n",
    "\n",
    "    # Voltage along the axis of a flat disk\n",
    "    # Measured in Volt (V) \n",
    "    v_disk = [ ( q * ( i + r - sqrt(r**2 + i**2)) / (epsilon_0 * area) ) for i in d]\n",
    "\n",
    "    # Capacitance under the hypothesis of an finite circular parallel plate capacitor (disk)\n",
    "    # Measured in Farad (F)\n",
    "    c_disk = [ ( q / i ) for i in v_disk]\n",
    "\n",
    "    # Total Capacitance of our capacitor \n",
    "    # It includes the parasitic capacitance from the voltmeter\n",
    "    # Measured in Volt (V) \n",
    "    c_tot = [ (q / i) for i in v_exp] \n",
    "\n",
    "    # parasitic capacitance from the voltmeter\n",
    "    c_par = map(sub, c_tot, c_disk)\n",
    "\n",
    "    # Create Dataframe\n",
    "    results = pd.DataFrame({ 'distance': d,'voltage-inf': v_inf, 'voltage-disk': v_disk, 'voltage-experimental': v_exp, 'capacitance_inf': c_inf, 'capacitance-disk': c_disk,'capacitance-total': c_tot,  'capacitance-parasitic': c_par })\n",
    "\n",
    "    print(results)\n",
    "\n",
    "\n",
    "\n",
    "analysis(df['distance'], df['voltage1'])"
   ]
  },
  {
   "cell_type": "code",
   "execution_count": null,
   "id": "7c4522cd-6838-4b4b-a2a3-6d1446741ac9",
   "metadata": {},
   "outputs": [],
   "source": []
  },
  {
   "cell_type": "code",
   "execution_count": null,
   "id": "3a6823f2-1d52-4ee3-bb02-d985f685c0db",
   "metadata": {},
   "outputs": [],
   "source": []
  }
 ],
 "metadata": {
  "kernelspec": {
   "display_name": "Python 3 (ipykernel)",
   "language": "python",
   "name": "python3"
  },
  "language_info": {
   "codemirror_mode": {
    "name": "ipython",
    "version": 3
   },
   "file_extension": ".py",
   "mimetype": "text/x-python",
   "name": "python",
   "nbconvert_exporter": "python",
   "pygments_lexer": "ipython3",
   "version": "3.9.6"
  }
 },
 "nbformat": 4,
 "nbformat_minor": 5
}
